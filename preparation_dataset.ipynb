{
 "cells": [
  {
   "cell_type": "code",
   "execution_count": 1,
   "id": "9f06cb66-c193-4346-93e4-7b207ef8291f",
   "metadata": {},
   "outputs": [],
   "source": [
    "import pandas as pd\n",
    "import numpy as np\n",
    "import matplotlib.pyplot as plt\n",
    "from sklearn.preprocessing import StandardScaler\n",
    "from imblearn.over_sampling import SMOTE\n",
    "from sklearn.model_selection import train_test_split\n",
    "\n",
    "import torch\n",
    "from torch.utils.data import Dataset, DataLoader\n",
    "import torch.nn as nn\n",
    "import torch.nn.functional as F\n",
    "import torch.optim as optim\n",
    "import joblib\n"
   ]
  },
  {
   "cell_type": "code",
   "execution_count": 3,
   "id": "078bbfa8-fc02-482e-a990-0b2b80ec2ab8",
   "metadata": {},
   "outputs": [
    {
     "data": {
      "text/html": [
       "<div>\n",
       "<style scoped>\n",
       "    .dataframe tbody tr th:only-of-type {\n",
       "        vertical-align: middle;\n",
       "    }\n",
       "\n",
       "    .dataframe tbody tr th {\n",
       "        vertical-align: top;\n",
       "    }\n",
       "\n",
       "    .dataframe thead th {\n",
       "        text-align: right;\n",
       "    }\n",
       "</style>\n",
       "<table border=\"1\" class=\"dataframe\">\n",
       "  <thead>\n",
       "    <tr style=\"text-align: right;\">\n",
       "      <th></th>\n",
       "      <th>V1real</th>\n",
       "      <th>V2real</th>\n",
       "      <th>Type</th>\n",
       "    </tr>\n",
       "  </thead>\n",
       "  <tbody>\n",
       "    <tr>\n",
       "      <th>0</th>\n",
       "      <td>-249.352941</td>\n",
       "      <td>4.764706</td>\n",
       "      <td>1</td>\n",
       "    </tr>\n",
       "    <tr>\n",
       "      <th>1</th>\n",
       "      <td>-260.470588</td>\n",
       "      <td>0.000000</td>\n",
       "      <td>1</td>\n",
       "    </tr>\n",
       "    <tr>\n",
       "      <th>2</th>\n",
       "      <td>-268.411765</td>\n",
       "      <td>0.000000</td>\n",
       "      <td>1</td>\n",
       "    </tr>\n",
       "    <tr>\n",
       "      <th>3</th>\n",
       "      <td>141.352941</td>\n",
       "      <td>-306.529412</td>\n",
       "      <td>1</td>\n",
       "    </tr>\n",
       "    <tr>\n",
       "      <th>4</th>\n",
       "      <td>155.647059</td>\n",
       "      <td>-314.470588</td>\n",
       "      <td>1</td>\n",
       "    </tr>\n",
       "  </tbody>\n",
       "</table>\n",
       "</div>"
      ],
      "text/plain": [
       "       V1real      V2real  Type\n",
       "0 -249.352941    4.764706     1\n",
       "1 -260.470588    0.000000     1\n",
       "2 -268.411765    0.000000     1\n",
       "3  141.352941 -306.529412     1\n",
       "4  155.647059 -314.470588     1"
      ]
     },
     "execution_count": 3,
     "metadata": {},
     "output_type": "execute_result"
    }
   ],
   "source": [
    "df = pd.read_excel(\"raw/train.xlsx\", decimal=',')\n",
    "to_delete = ['I1', 'I2','I3','gx','gy','gz','ax','ay','az','V3real','N1','N2','N3']\n",
    "df.drop(columns=to_delete, inplace=True, errors='ignore')\n",
    "\n",
    "df.head()"
   ]
  },
  {
   "cell_type": "code",
   "execution_count": 4,
   "id": "9d58fac1-f549-487d-a6e4-d192c2a9e843",
   "metadata": {},
   "outputs": [
    {
     "name": "stdout",
     "output_type": "stream",
     "text": [
      "       V1real      V2real  is_type_2\n",
      "0 -249.352941    4.764706          0\n",
      "1 -260.470588    0.000000          0\n",
      "2 -268.411765    0.000000          0\n",
      "3  141.352941 -306.529412          0\n",
      "4  155.647059 -314.470588          0\n"
     ]
    }
   ],
   "source": [
    "df['is_type_2'] = (df['Type'] == 2).astype(int)\n",
    "df.drop(columns=['Type'], inplace=True)\n",
    "print(df.head())"
   ]
  },
  {
   "cell_type": "code",
   "execution_count": 7,
   "id": "8446b2ea-d089-4abf-b2cd-a42915f2932a",
   "metadata": {},
   "outputs": [
    {
     "name": "stdout",
     "output_type": "stream",
     "text": [
      "     V1real    V2real  is_type_2\n",
      "0 -1.323802 -0.278875          0\n",
      "1 -1.359267 -0.292213          0\n",
      "2 -1.384598 -0.292213          0\n",
      "3 -0.077482 -1.150340          0\n",
      "4 -0.031885 -1.172571          0\n"
     ]
    }
   ],
   "source": [
    "v1_features = ['V1real', 'V2real']\n",
    "scaler = StandardScaler()\n",
    "df[v1_features] = scaler.fit_transform(df[v1_features])\n",
    "joblib.dump(scaler, 'scaler_v1_features.pkl')\n",
    "print(df.head())"
   ]
  },
  {
   "cell_type": "code",
   "execution_count": 8,
   "id": "a7c71161-6c0d-4b2f-a166-3701519e27be",
   "metadata": {},
   "outputs": [
    {
     "name": "stdout",
     "output_type": "stream",
     "text": [
      "V1real       176\n",
      "V2real       176\n",
      "is_type_2    176\n",
      "dtype: int64\n"
     ]
    }
   ],
   "source": [
    "print(df.count())"
   ]
  },
  {
   "cell_type": "code",
   "execution_count": 9,
   "id": "462c3cb6-ed9e-434d-9204-d44d54b9261f",
   "metadata": {},
   "outputs": [
    {
     "name": "stdout",
     "output_type": "stream",
     "text": [
      "До SMOTE: {0: 105, 1: 27}\n",
      "После SMOTE: {0: 105, 1: 105}\n"
     ]
    }
   ],
   "source": [
    "X = df[['V1real', 'V2real']]\n",
    "y = df['is_type_2']\n",
    "X_train, X_test, y_train, y_test = train_test_split(X, y, stratify=y, random_state=42)\n",
    "smote = SMOTE(random_state=42)\n",
    "X_resampled, y_resampled = smote.fit_resample(X_train, y_train)\n",
    "print(\"До SMOTE:\", y_train.value_counts().to_dict())\n",
    "print(\"После SMOTE:\", pd.Series(y_resampled).value_counts().to_dict())"
   ]
  },
  {
   "cell_type": "code",
   "execution_count": 12,
   "id": "6a998178-eeea-438b-ab30-e27ab0bdd858",
   "metadata": {},
   "outputs": [
    {
     "name": "stdout",
     "output_type": "stream",
     "text": [
      "Итоговый размер датасета: (1260, 3)\n",
      "is_type_2\n",
      "0.0    630\n",
      "1.0    630\n",
      "Name: count, dtype: int64\n"
     ]
    }
   ],
   "source": [
    "copies_per_row = 5\n",
    "noise_scale = 0.05\n",
    "\n",
    "df_resampled = pd.DataFrame(X_resampled, columns=['V1real', 'V2real'])\n",
    "df_resampled['is_type_2'] = y_resampled\n",
    "\n",
    "augmented_rows = []\n",
    "\n",
    "for _, row in df_resampled.iterrows():\n",
    "    for _ in range(copies_per_row):\n",
    "        noisy_v1 = row['V1real'] + np.random.normal(0, noise_scale)\n",
    "        noisy_v2 = row['V2real'] + np.random.normal(0, noise_scale)\n",
    "        augmented_rows.append([noisy_v1, noisy_v2, row['is_type_2']])\n",
    "\n",
    "df_augmented = pd.DataFrame(augmented_rows, columns=['V1real', 'V2real', 'is_type_2'])\n",
    "df_final = pd.concat([df_resampled, df_augmented], ignore_index=True)\n",
    "df_final = df_final.sample(frac=1, random_state=42).reset_index(drop=True)\n",
    "df_final.to_excel(\"train_augmented.xlsx\", index=False)\n",
    "\n",
    "print(f\"Итоговый размер датасета: {df_final.shape}\")\n",
    "print(df_final['is_type_2'].value_counts())"
   ]
  },
  {
   "cell_type": "code",
   "execution_count": null,
   "id": "acfa8b35-fcac-45b6-8c06-684f2f5e9997",
   "metadata": {},
   "outputs": [],
   "source": []
  }
 ],
 "metadata": {
  "kernelspec": {
   "display_name": "Python 3 (ipykernel)",
   "language": "python",
   "name": "python3"
  },
  "language_info": {
   "codemirror_mode": {
    "name": "ipython",
    "version": 3
   },
   "file_extension": ".py",
   "mimetype": "text/x-python",
   "name": "python",
   "nbconvert_exporter": "python",
   "pygments_lexer": "ipython3",
   "version": "3.11.4"
  }
 },
 "nbformat": 4,
 "nbformat_minor": 5
}
