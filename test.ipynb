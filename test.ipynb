{
 "cells": [
  {
   "cell_type": "code",
   "execution_count": 3,
   "id": "83a44c50-ea24-4ee4-8553-a7209c6ffc5c",
   "metadata": {},
   "outputs": [],
   "source": [
    "import pandas as pd\n",
    "import numpy as np\n",
    "import torch\n",
    "import torch.nn as nn\n",
    "import joblib\n",
    "import matplotlib.pyplot as plt\n",
    "from sklearn.metrics import accuracy_score, f1_score, confusion_matrix, classification_report, ConfusionMatrixDisplay, roc_curve, auc\n",
    "from sklearn.preprocessing import StandardScaler"
   ]
  },
  {
   "cell_type": "code",
   "execution_count": 4,
   "id": "eb03d2de-fb1a-4e94-9b77-963acfd3a122",
   "metadata": {},
   "outputs": [
    {
     "data": {
      "text/html": [
       "<div>\n",
       "<style scoped>\n",
       "    .dataframe tbody tr th:only-of-type {\n",
       "        vertical-align: middle;\n",
       "    }\n",
       "\n",
       "    .dataframe tbody tr th {\n",
       "        vertical-align: top;\n",
       "    }\n",
       "\n",
       "    .dataframe thead th {\n",
       "        text-align: right;\n",
       "    }\n",
       "</style>\n",
       "<table border=\"1\" class=\"dataframe\">\n",
       "  <thead>\n",
       "    <tr style=\"text-align: right;\">\n",
       "      <th></th>\n",
       "      <th>I1</th>\n",
       "      <th>I2</th>\n",
       "      <th>I3</th>\n",
       "      <th>gx</th>\n",
       "      <th>gy</th>\n",
       "      <th>gz</th>\n",
       "      <th>ax</th>\n",
       "      <th>ay</th>\n",
       "      <th>az</th>\n",
       "      <th>V1real</th>\n",
       "      <th>V2real</th>\n",
       "      <th>V3real</th>\n",
       "      <th>N1</th>\n",
       "      <th>N2</th>\n",
       "      <th>N3</th>\n",
       "      <th>is_type_2</th>\n",
       "    </tr>\n",
       "  </thead>\n",
       "  <tbody>\n",
       "    <tr>\n",
       "      <th>0</th>\n",
       "      <td>2.125662</td>\n",
       "      <td>-1.179540</td>\n",
       "      <td>1.872513</td>\n",
       "      <td>-0.075407</td>\n",
       "      <td>0.483478</td>\n",
       "      <td>-0.769701</td>\n",
       "      <td>0.925927</td>\n",
       "      <td>-0.014247</td>\n",
       "      <td>0.221531</td>\n",
       "      <td>-1.339001</td>\n",
       "      <td>-0.292213</td>\n",
       "      <td>-0.401214</td>\n",
       "      <td>-1.474661</td>\n",
       "      <td>-0.266699</td>\n",
       "      <td>-0.211136</td>\n",
       "      <td>0</td>\n",
       "    </tr>\n",
       "    <tr>\n",
       "      <th>1</th>\n",
       "      <td>0.032870</td>\n",
       "      <td>1.569852</td>\n",
       "      <td>-0.114968</td>\n",
       "      <td>0.085374</td>\n",
       "      <td>0.645291</td>\n",
       "      <td>-0.841375</td>\n",
       "      <td>0.356647</td>\n",
       "      <td>-0.531593</td>\n",
       "      <td>-0.324835</td>\n",
       "      <td>-0.011619</td>\n",
       "      <td>-1.154786</td>\n",
       "      <td>-0.893713</td>\n",
       "      <td>0.025260</td>\n",
       "      <td>-1.224573</td>\n",
       "      <td>-0.794933</td>\n",
       "      <td>0</td>\n",
       "    </tr>\n",
       "    <tr>\n",
       "      <th>2</th>\n",
       "      <td>-0.447445</td>\n",
       "      <td>0.928820</td>\n",
       "      <td>1.432536</td>\n",
       "      <td>0.184645</td>\n",
       "      <td>0.563742</td>\n",
       "      <td>-0.884358</td>\n",
       "      <td>0.763160</td>\n",
       "      <td>-1.285863</td>\n",
       "      <td>-0.349699</td>\n",
       "      <td>-0.883030</td>\n",
       "      <td>-1.208141</td>\n",
       "      <td>0.576208</td>\n",
       "      <td>-0.911514</td>\n",
       "      <td>-1.238300</td>\n",
       "      <td>0.742219</td>\n",
       "      <td>0</td>\n",
       "    </tr>\n",
       "    <tr>\n",
       "      <th>3</th>\n",
       "      <td>-0.506259</td>\n",
       "      <td>-0.091299</td>\n",
       "      <td>-0.861879</td>\n",
       "      <td>0.022715</td>\n",
       "      <td>-0.115715</td>\n",
       "      <td>-0.197961</td>\n",
       "      <td>-0.636813</td>\n",
       "      <td>0.419213</td>\n",
       "      <td>0.994899</td>\n",
       "      <td>-0.024870</td>\n",
       "      <td>0.161304</td>\n",
       "      <td>-0.816195</td>\n",
       "      <td>0.128143</td>\n",
       "      <td>0.272721</td>\n",
       "      <td>-0.642148</td>\n",
       "      <td>0</td>\n",
       "    </tr>\n",
       "    <tr>\n",
       "      <th>4</th>\n",
       "      <td>-0.461821</td>\n",
       "      <td>-0.351018</td>\n",
       "      <td>-0.599112</td>\n",
       "      <td>-0.204925</td>\n",
       "      <td>-0.058896</td>\n",
       "      <td>0.450085</td>\n",
       "      <td>-0.378654</td>\n",
       "      <td>0.116620</td>\n",
       "      <td>0.202555</td>\n",
       "      <td>0.619985</td>\n",
       "      <td>0.695447</td>\n",
       "      <td>0.037237</td>\n",
       "      <td>0.578885</td>\n",
       "      <td>0.691498</td>\n",
       "      <td>0.036082</td>\n",
       "      <td>0</td>\n",
       "    </tr>\n",
       "  </tbody>\n",
       "</table>\n",
       "</div>"
      ],
      "text/plain": [
       "         I1        I2        I3        gx        gy        gz        ax  \\\n",
       "0  2.125662 -1.179540  1.872513 -0.075407  0.483478 -0.769701  0.925927   \n",
       "1  0.032870  1.569852 -0.114968  0.085374  0.645291 -0.841375  0.356647   \n",
       "2 -0.447445  0.928820  1.432536  0.184645  0.563742 -0.884358  0.763160   \n",
       "3 -0.506259 -0.091299 -0.861879  0.022715 -0.115715 -0.197961 -0.636813   \n",
       "4 -0.461821 -0.351018 -0.599112 -0.204925 -0.058896  0.450085 -0.378654   \n",
       "\n",
       "         ay        az    V1real    V2real    V3real        N1        N2  \\\n",
       "0 -0.014247  0.221531 -1.339001 -0.292213 -0.401214 -1.474661 -0.266699   \n",
       "1 -0.531593 -0.324835 -0.011619 -1.154786 -0.893713  0.025260 -1.224573   \n",
       "2 -1.285863 -0.349699 -0.883030 -1.208141  0.576208 -0.911514 -1.238300   \n",
       "3  0.419213  0.994899 -0.024870  0.161304 -0.816195  0.128143  0.272721   \n",
       "4  0.116620  0.202555  0.619985  0.695447  0.037237  0.578885  0.691498   \n",
       "\n",
       "         N3  is_type_2  \n",
       "0 -0.211136          0  \n",
       "1 -0.794933          0  \n",
       "2  0.742219          0  \n",
       "3 -0.642148          0  \n",
       "4  0.036082          0  "
      ]
     },
     "execution_count": 4,
     "metadata": {},
     "output_type": "execute_result"
    }
   ],
   "source": [
    "df_test = pd.read_excel(\"raw/test.xlsx\", decimal=',')\n",
    "to_delete = []\n",
    "df_test.drop(columns=to_delete, inplace=True, errors='ignore')\n",
    "df_test['is_type_2'] = (df_test['Type'] == 2).astype(int)\n",
    "df_test.drop(columns=['Type'], inplace=True)\n",
    "v1_features = ['I1', 'I2','I3','gx','gy','gz','ax','ay','az', 'V1real', 'V2real','V3real','N1', 'N2', 'N3']\n",
    "scaler = joblib.load('scaler_v1_features.pkl')\n",
    "df_test[v1_features] = scaler.transform(df_test[v1_features])\n",
    "df_test.head()"
   ]
  },
  {
   "cell_type": "code",
   "execution_count": 5,
   "id": "497f48a7-94c0-4bc1-81e6-869508e0a948",
   "metadata": {},
   "outputs": [],
   "source": [
    "def get_activation(name):\n",
    "    if name == 'relu':\n",
    "        return nn.ReLU()\n",
    "    elif name == 'tanh':\n",
    "        return nn.Tanh()\n",
    "    elif name == 'leaky_relu':\n",
    "        return nn.LeakyReLU()\n",
    "    elif name == 'elu':\n",
    "        return nn.ELU()\n",
    "    else:\n",
    "        raise ValueError(f\"Unknown activation: {name}\")\n",
    "\n",
    "class Net(nn.Module):\n",
    "    def __init__(self, input_dim, hidden_dim, num_layers, dropout_rate, activation_name='relu'):\n",
    "        super(Net, self).__init__()\n",
    "        activation = get_activation(activation_name)\n",
    "        layers = [nn.Linear(input_dim, hidden_dim), activation, nn.Dropout(dropout_rate)]\n",
    "        for _ in range(num_layers - 1):\n",
    "            layers += [nn.Linear(hidden_dim, hidden_dim), activation, nn.Dropout(dropout_rate)]\n",
    "        layers += [nn.Linear(hidden_dim, 2)]\n",
    "        self.model = nn.Sequential(*layers)\n",
    "    def forward(self, x):\n",
    "        return self.model(x)"
   ]
  },
  {
   "cell_type": "code",
   "execution_count": 7,
   "id": "988e4bc3-9c73-4bc5-a33a-7aa0132ed8af",
   "metadata": {},
   "outputs": [
    {
     "data": {
      "text/plain": [
       "Net(\n",
       "  (model): Sequential(\n",
       "    (0): Linear(in_features=15, out_features=23, bias=True)\n",
       "    (1): Tanh()\n",
       "    (2): Dropout(p=0.18876167758233664, inplace=False)\n",
       "    (3): Linear(in_features=23, out_features=23, bias=True)\n",
       "    (4): Tanh()\n",
       "    (5): Dropout(p=0.18876167758233664, inplace=False)\n",
       "    (6): Linear(in_features=23, out_features=23, bias=True)\n",
       "    (7): Tanh()\n",
       "    (8): Dropout(p=0.18876167758233664, inplace=False)\n",
       "    (9): Linear(in_features=23, out_features=2, bias=True)\n",
       "  )\n",
       ")"
      ]
     },
     "execution_count": 7,
     "metadata": {},
     "output_type": "execute_result"
    }
   ],
   "source": [
    "checkpoint = torch.load('model.pt')\n",
    "params = checkpoint['params']\n",
    "model = Net(\n",
    "    input_dim=15,\n",
    "    hidden_dim=params['hidden_dim'],\n",
    "    num_layers=params['num_layers'],\n",
    "    dropout_rate=params['dropout_rate'],\n",
    "    activation_name=params.get('activation', 'relu')\n",
    ")\n",
    "model.load_state_dict(checkpoint['model_state_dict'])\n",
    "model.eval()"
   ]
  },
  {
   "cell_type": "code",
   "execution_count": 8,
   "id": "5fabb149-6d39-4fdd-b626-156994703539",
   "metadata": {},
   "outputs": [],
   "source": [
    "X_test = df_test[v1_features].values.astype(np.float32)\n",
    "y_true = df_test['is_type_2'].values\n",
    "X_tensor = torch.tensor(X_test)\n",
    "\n",
    "with torch.no_grad():\n",
    "    logits = model(X_tensor)\n",
    "    y_pred = torch.argmax(logits, dim=1).numpy()\n",
    "    y_prob = torch.softmax(logits, dim=1)[:, 1].numpy()"
   ]
  },
  {
   "cell_type": "code",
   "execution_count": 9,
   "id": "293d9fcf-640d-4a6a-8c4c-675d73e0f326",
   "metadata": {},
   "outputs": [
    {
     "name": "stdout",
     "output_type": "stream",
     "text": [
      "\n",
      "Accuracy: 0.9483\n",
      "F1 Score: 0.8800\n",
      "\n",
      "Classification Report:\n",
      "               precision    recall  f1-score   support\n",
      "\n",
      "           0       0.98      0.96      0.97        46\n",
      "           1       0.85      0.92      0.88        12\n",
      "\n",
      "    accuracy                           0.95        58\n",
      "   macro avg       0.91      0.94      0.92        58\n",
      "weighted avg       0.95      0.95      0.95        58\n",
      "\n"
     ]
    }
   ],
   "source": [
    "acc = accuracy_score(y_true, y_pred)\n",
    "f1 = f1_score(y_true, y_pred)\n",
    "cm = confusion_matrix(y_true, y_pred)\n",
    "report = classification_report(y_true, y_pred)\n",
    "\n",
    "print(f\"\\nAccuracy: {acc:.4f}\")\n",
    "print(f\"F1 Score: {f1:.4f}\")\n",
    "print(\"\\nClassification Report:\\n\", report)\n"
   ]
  },
  {
   "cell_type": "code",
   "execution_count": 10,
   "id": "5e939343-a414-45a9-8e0e-7c182d6966a7",
   "metadata": {},
   "outputs": [
    {
     "data": {
      "image/png": "[encoded data removed]",
      "text/plain": [
       "<Figure size 640x480 with 2 Axes>"
      ]
     },
     "metadata": {},
     "output_type": "display_data"
    }
   ],
   "source": [
    "disp = ConfusionMatrixDisplay(confusion_matrix=cm, display_labels=[0, 1])\n",
    "disp.plot(cmap='Blues')\n",
    "plt.title(\"Confusion Matrix\")\n",
    "plt.grid(False)\n",
    "plt.show()"
   ]
  },
  {
   "cell_type": "code",
   "execution_count": 11,
   "id": "429a0db5-ce50-4e6b-9862-fdaa51d5641e",
   "metadata": {},
   "outputs": [
    {
     "data": {
      "image/png": "[encoded data removed]",
      "text/plain": [
       "<Figure size 640x480 with 1 Axes>"
      ]
     },
     "metadata": {},
     "output_type": "display_data"
    }
   ],
   "source": [
    "fpr, tpr, thresholds = roc_curve(y_true, y_prob)\n",
    "roc_auc = auc(fpr, tpr)\n",
    "\n",
    "plt.figure()\n",
    "plt.plot(fpr, tpr, label=f\"ROC curve (AUC = {roc_auc:.2f})\")\n",
    "plt.plot([0, 1], [0, 1], linestyle='--', color='gray')\n",
    "plt.xlabel(\"False Positive Rate\")\n",
    "plt.ylabel(\"True Positive Rate\")\n",
    "plt.title(\"Receiver Operating Characteristic (ROC)\")\n",
    "plt.legend(loc=\"lower right\")\n",
    "plt.grid(True)\n",
    "plt.show()"
   ]
  },
  {
   "cell_type": "code",
   "execution_count": null,
   "id": "b2a35be4-5415-4f33-abf8-3e08127bcf20",
   "metadata": {},
   "outputs": [],
   "source": []
  }
 ],
 "metadata": {
  "kernelspec": {
   "display_name": "Python 3 (ipykernel)",
   "language": "python",
   "name": "python3"
  },
  "language_info": {
   "codemirror_mode": {
    "name": "ipython",
    "version": 3
   },
   "file_extension": ".py",
   "mimetype": "text/x-python",
   "name": "python",
   "nbconvert_exporter": "python",
   "pygments_lexer": "ipython3",
   "version": "3.11.4"
  }
 },
 "nbformat": 4,
 "nbformat_minor": 5
}
