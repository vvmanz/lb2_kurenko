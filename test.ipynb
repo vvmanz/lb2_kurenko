{
 "cells": [
  {
   "cell_type": "code",
   "execution_count": 1,
   "id": "83a44c50-ea24-4ee4-8553-a7209c6ffc5c",
   "metadata": {},
   "outputs": [],
   "source": [
    "import pandas as pd\n",
    "import numpy as np\n",
    "import torch\n",
    "import torch.nn as nn\n",
    "import joblib\n",
    "import matplotlib.pyplot as plt\n",
    "from sklearn.metrics import accuracy_score, f1_score, confusion_matrix, classification_report, ConfusionMatrixDisplay, roc_curve, auc\n",
    "from sklearn.preprocessing import StandardScaler"
   ]
  },
  {
   "cell_type": "code",
   "execution_count": 2,
   "id": "eb03d2de-fb1a-4e94-9b77-963acfd3a122",
   "metadata": {},
   "outputs": [
    {
     "data": {
      "text/html": [
       "<div>\n",
       "<style scoped>\n",
       "    .dataframe tbody tr th:only-of-type {\n",
       "        vertical-align: middle;\n",
       "    }\n",
       "\n",
       "    .dataframe tbody tr th {\n",
       "        vertical-align: top;\n",
       "    }\n",
       "\n",
       "    .dataframe thead th {\n",
       "        text-align: right;\n",
       "    }\n",
       "</style>\n",
       "<table border=\"1\" class=\"dataframe\">\n",
       "  <thead>\n",
       "    <tr style=\"text-align: right;\">\n",
       "      <th></th>\n",
       "      <th>V1real</th>\n",
       "      <th>V2real</th>\n",
       "      <th>is_type_2</th>\n",
       "    </tr>\n",
       "  </thead>\n",
       "  <tbody>\n",
       "    <tr>\n",
       "      <th>0</th>\n",
       "      <td>-1.339001</td>\n",
       "      <td>-0.292213</td>\n",
       "      <td>0</td>\n",
       "    </tr>\n",
       "    <tr>\n",
       "      <th>1</th>\n",
       "      <td>-0.011619</td>\n",
       "      <td>-1.154786</td>\n",
       "      <td>0</td>\n",
       "    </tr>\n",
       "    <tr>\n",
       "      <th>2</th>\n",
       "      <td>-0.883030</td>\n",
       "      <td>-1.208141</td>\n",
       "      <td>0</td>\n",
       "    </tr>\n",
       "    <tr>\n",
       "      <th>3</th>\n",
       "      <td>-0.024870</td>\n",
       "      <td>0.161304</td>\n",
       "      <td>0</td>\n",
       "    </tr>\n",
       "    <tr>\n",
       "      <th>4</th>\n",
       "      <td>0.619985</td>\n",
       "      <td>0.695447</td>\n",
       "      <td>0</td>\n",
       "    </tr>\n",
       "  </tbody>\n",
       "</table>\n",
       "</div>"
      ],
      "text/plain": [
       "     V1real    V2real  is_type_2\n",
       "0 -1.339001 -0.292213          0\n",
       "1 -0.011619 -1.154786          0\n",
       "2 -0.883030 -1.208141          0\n",
       "3 -0.024870  0.161304          0\n",
       "4  0.619985  0.695447          0"
      ]
     },
     "execution_count": 2,
     "metadata": {},
     "output_type": "execute_result"
    }
   ],
   "source": [
    "df_test = pd.read_excel(\"raw/test.xlsx\", decimal=',')\n",
    "to_delete = ['I1', 'I2','I3','gx','gy','gz','ax','ay','az','V3real','N1','N2','N3']\n",
    "df_test.drop(columns=to_delete, inplace=True, errors='ignore')\n",
    "df_test['is_type_2'] = (df_test['Type'] == 2).astype(int)\n",
    "df_test.drop(columns=['Type'], inplace=True)\n",
    "v1_features = ['V1real', 'V2real']\n",
    "scaler = joblib.load('scaler_v1_features.pkl')\n",
    "df_test[v1_features] = scaler.transform(df_test[v1_features])\n",
    "df_test.head()"
   ]
  },
  {
   "cell_type": "code",
   "execution_count": 3,
   "id": "497f48a7-94c0-4bc1-81e6-869508e0a948",
   "metadata": {},
   "outputs": [],
   "source": [
    "def get_activation(name):\n",
    "    if name == 'relu':\n",
    "        return nn.ReLU()\n",
    "    elif name == 'tanh':\n",
    "        return nn.Tanh()\n",
    "    elif name == 'leaky_relu':\n",
    "        return nn.LeakyReLU()\n",
    "    elif name == 'elu':\n",
    "        return nn.ELU()\n",
    "    else:\n",
    "        raise ValueError(f\"Unknown activation: {name}\")\n",
    "\n",
    "class Net(nn.Module):\n",
    "    def __init__(self, input_dim, hidden_dim, num_layers, dropout_rate, activation_name='relu'):\n",
    "        super(Net, self).__init__()\n",
    "        activation = get_activation(activation_name)\n",
    "        layers = [nn.Linear(input_dim, hidden_dim), activation, nn.Dropout(dropout_rate)]\n",
    "        for _ in range(num_layers - 1):\n",
    "            layers += [nn.Linear(hidden_dim, hidden_dim), activation, nn.Dropout(dropout_rate)]\n",
    "        layers += [nn.Linear(hidden_dim, 2)]\n",
    "        self.model = nn.Sequential(*layers)\n",
    "    def forward(self, x):\n",
    "        return self.model(x)"
   ]
  },
  {
   "cell_type": "code",
   "execution_count": 4,
   "id": "988e4bc3-9c73-4bc5-a33a-7aa0132ed8af",
   "metadata": {},
   "outputs": [
    {
     "data": {
      "text/plain": [
       "Net(\n",
       "  (model): Sequential(\n",
       "    (0): Linear(in_features=2, out_features=206, bias=True)\n",
       "    (1): ReLU()\n",
       "    (2): Dropout(p=0.1744248868035043, inplace=False)\n",
       "    (3): Linear(in_features=206, out_features=206, bias=True)\n",
       "    (4): ReLU()\n",
       "    (5): Dropout(p=0.1744248868035043, inplace=False)\n",
       "    (6): Linear(in_features=206, out_features=206, bias=True)\n",
       "    (7): ReLU()\n",
       "    (8): Dropout(p=0.1744248868035043, inplace=False)\n",
       "    (9): Linear(in_features=206, out_features=206, bias=True)\n",
       "    (10): ReLU()\n",
       "    (11): Dropout(p=0.1744248868035043, inplace=False)\n",
       "    (12): Linear(in_features=206, out_features=206, bias=True)\n",
       "    (13): ReLU()\n",
       "    (14): Dropout(p=0.1744248868035043, inplace=False)\n",
       "    (15): Linear(in_features=206, out_features=206, bias=True)\n",
       "    (16): ReLU()\n",
       "    (17): Dropout(p=0.1744248868035043, inplace=False)\n",
       "    (18): Linear(in_features=206, out_features=206, bias=True)\n",
       "    (19): ReLU()\n",
       "    (20): Dropout(p=0.1744248868035043, inplace=False)\n",
       "    (21): Linear(in_features=206, out_features=2, bias=True)\n",
       "  )\n",
       ")"
      ]
     },
     "execution_count": 4,
     "metadata": {},
     "output_type": "execute_result"
    }
   ],
   "source": [
    "checkpoint = torch.load('model.pt')\n",
    "params = checkpoint['params']\n",
    "model = Net(\n",
    "    input_dim=2,\n",
    "    hidden_dim=params['hidden_dim'],\n",
    "    num_layers=params['num_layers'],\n",
    "    dropout_rate=params['dropout_rate'],\n",
    "    activation_name=params.get('activation', 'relu')\n",
    ")\n",
    "model.load_state_dict(checkpoint['model_state_dict'])\n",
    "model.eval()"
   ]
  },
  {
   "cell_type": "code",
   "execution_count": 5,
   "id": "5fabb149-6d39-4fdd-b626-156994703539",
   "metadata": {},
   "outputs": [],
   "source": [
    "X_test = df_test[v1_features].values.astype(np.float32)\n",
    "y_true = df_test['is_type_2'].values\n",
    "X_tensor = torch.tensor(X_test)\n",
    "\n",
    "with torch.no_grad():\n",
    "    logits = model(X_tensor)\n",
    "    y_pred = torch.argmax(logits, dim=1).numpy()\n",
    "    y_prob = torch.softmax(logits, dim=1)[:, 1].numpy()"
   ]
  },
  {
   "cell_type": "code",
   "execution_count": 6,
   "id": "293d9fcf-640d-4a6a-8c4c-675d73e0f326",
   "metadata": {},
   "outputs": [
    {
     "name": "stdout",
     "output_type": "stream",
     "text": [
      "\n",
      "Accuracy: 0.8793\n",
      "F1 Score: 0.6957\n",
      "\n",
      "Classification Report:\n",
      "               precision    recall  f1-score   support\n",
      "\n",
      "           0       0.91      0.93      0.92        46\n",
      "           1       0.73      0.67      0.70        12\n",
      "\n",
      "    accuracy                           0.88        58\n",
      "   macro avg       0.82      0.80      0.81        58\n",
      "weighted avg       0.88      0.88      0.88        58\n",
      "\n"
     ]
    }
   ],
   "source": [
    "acc = accuracy_score(y_true, y_pred)\n",
    "f1 = f1_score(y_true, y_pred)\n",
    "cm = confusion_matrix(y_true, y_pred)\n",
    "report = classification_report(y_true, y_pred)\n",
    "\n",
    "print(f\"\\nAccuracy: {acc:.4f}\")\n",
    "print(f\"F1 Score: {f1:.4f}\")\n",
    "print(\"\\nClassification Report:\\n\", report)\n"
   ]
  },
  {
   "cell_type": "code",
   "execution_count": 7,
   "id": "5e939343-a414-45a9-8e0e-7c182d6966a7",
   "metadata": {},
   "outputs": [
    {
     "data": {
      "image/png": "[encoded data removed]",
      "text/plain": [
       "<Figure size 640x480 with 2 Axes>"
      ]
     },
     "metadata": {},
     "output_type": "display_data"
    }
   ],
   "source": [
    "disp = ConfusionMatrixDisplay(confusion_matrix=cm, display_labels=[0, 1])\n",
    "disp.plot(cmap='Blues')\n",
    "plt.title(\"Confusion Matrix\")\n",
    "plt.grid(False)\n",
    "plt.show()"
   ]
  },
  {
   "cell_type": "code",
   "execution_count": 8,
   "id": "429a0db5-ce50-4e6b-9862-fdaa51d5641e",
   "metadata": {},
   "outputs": [
    {
     "data": {
      "image/png": "[encoded data removed]",
      "text/plain": [
       "<Figure size 640x480 with 1 Axes>"
      ]
     },
     "metadata": {},
     "output_type": "display_data"
    }
   ],
   "source": [
    "fpr, tpr, thresholds = roc_curve(y_true, y_prob)\n",
    "roc_auc = auc(fpr, tpr)\n",
    "\n",
    "plt.figure()\n",
    "plt.plot(fpr, tpr, label=f\"ROC curve (AUC = {roc_auc:.2f})\")\n",
    "plt.plot([0, 1], [0, 1], linestyle='--', color='gray')\n",
    "plt.xlabel(\"False Positive Rate\")\n",
    "plt.ylabel(\"True Positive Rate\")\n",
    "plt.title(\"Receiver Operating Characteristic (ROC)\")\n",
    "plt.legend(loc=\"lower right\")\n",
    "plt.grid(True)\n",
    "plt.show()"
   ]
  },
  {
   "cell_type": "code",
   "execution_count": null,
   "id": "b2a35be4-5415-4f33-abf8-3e08127bcf20",
   "metadata": {},
   "outputs": [],
   "source": []
  }
 ],
 "metadata": {
  "kernelspec": {
   "display_name": "Python 3 (ipykernel)",
   "language": "python",
   "name": "python3"
  },
  "language_info": {
   "codemirror_mode": {
    "name": "ipython",
    "version": 3
   },
   "file_extension": ".py",
   "mimetype": "text/x-python",
   "name": "python",
   "nbconvert_exporter": "python",
   "pygments_lexer": "ipython3",
   "version": "3.11.4"
  }
 },
 "nbformat": 4,
 "nbformat_minor": 5
}
